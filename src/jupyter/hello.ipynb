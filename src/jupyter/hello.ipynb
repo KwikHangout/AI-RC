{
 "cells": [
  {
   "cell_type": "code",
   "execution_count": 10,
   "id": "547460b7",
   "metadata": {
    "hide_input": true,
    "scrolled": true
   },
   "outputs": [
    {
     "data": {
      "application/vnd.jupyter.widget-view+json": {
       "model_id": "3539509d388f4667b16fbe2984b4b4fb",
       "version_major": 2,
       "version_minor": 0
      },
      "text/plain": [
       "Button(description='images count', style=ButtonStyle())"
      ]
     },
     "metadata": {},
     "output_type": "display_data"
    },
    {
     "data": {
      "application/vnd.jupyter.widget-view+json": {
       "model_id": "b29ee58dd5eb4cb2b4de332bcc65a42b",
       "version_major": 2,
       "version_minor": 0
      },
      "text/plain": [
       "Button(description='del data', style=ButtonStyle())"
      ]
     },
     "metadata": {},
     "output_type": "display_data"
    },
    {
     "data": {
      "application/vnd.jupyter.widget-view+json": {
       "model_id": "5514d81c1222483ba8762269723728cd",
       "version_major": 2,
       "version_minor": 0
      },
      "text/plain": [
       "Button(description='run car', style=ButtonStyle())"
      ]
     },
     "metadata": {},
     "output_type": "display_data"
    },
    {
     "data": {
      "application/vnd.jupyter.widget-view+json": {
       "model_id": "3e62ccf9ddb042d5b2da9bd38ab730ba",
       "version_major": 2,
       "version_minor": 0
      },
      "text/plain": [
       "Button(description='train car', style=ButtonStyle())"
      ]
     },
     "metadata": {},
     "output_type": "display_data"
    },
    {
     "data": {
      "application/vnd.jupyter.widget-view+json": {
       "model_id": "aab2055ad96640aba998f431ac83c948",
       "version_major": 2,
       "version_minor": 0
      },
      "text/plain": [
       "Button(description='run AI', style=ButtonStyle())"
      ]
     },
     "metadata": {},
     "output_type": "display_data"
    },
    {
     "data": {
      "application/vnd.jupyter.widget-view+json": {
       "model_id": "ccfe5ad9a61c41d9adf0d33c28c11839",
       "version_major": 2,
       "version_minor": 0
      },
      "text/plain": [
       "Output()"
      ]
     },
     "metadata": {},
     "output_type": "display_data"
    }
   ],
   "source": [
    "from IPython.display import display, clear_output\n",
    "import ipywidgets as widgets\n",
    "import os\n",
    "import asyncio\n",
    "import sys\n",
    "import subprocess\n",
    "\n",
    "cmd_wc=\"ls -l ../mycar/data/images|wc -l\"\n",
    "cmd_del=\"cd ../mycar;rm -rf ./data/*\"\n",
    "cmd_run=\"cd ../mycar;python manage.py drive --js\"\n",
    "cmd_train=\"cd ../mycar;donkey train --tub ./data --model ./models/mypilot.h5\"\n",
    "cmd_autopilot=\"cd ../mycar;python manage.py drive --js --model ./models/mypilot.h5\"\n",
    "\n",
    "#cmd_run=\"cd ../mycar; source ./run_car.sh\"\n",
    "\n",
    "output =  widgets.Output()\n",
    "current_proc = 0\n",
    "\n",
    "# https://qiita.com/megmogmog1965/items/091aa0304017d775bc1e\n",
    "def run_and_capture(cmd):\n",
    "    '''\n",
    "    :param cmd: str 実行するコマンド.\n",
    "    :rtype: str\n",
    "    :return: 標準出力.\n",
    "    '''\n",
    "    # ここでプロセスが (非同期に) 開始する.\n",
    "    proc = subprocess.Popen(cmd, shell=True, stdout=subprocess.PIPE, stderr=subprocess.STDOUT)\n",
    "    print(proc.pid)\n",
    "    buf = []\n",
    "    current_proc = proc\n",
    "\n",
    "    while True:\n",
    "        # バッファから1行読み込む.\n",
    "        line = proc.stdout.readline()\n",
    "        buf.append(line)\n",
    "        sys.stdout.write(line)\n",
    "\n",
    "        # バッファが空 + プロセス終了.\n",
    "        if not line and proc.poll() is not None:\n",
    "            break\n",
    "\n",
    "    return b''.join(buf)\n",
    "\n",
    "### wc -l\n",
    "def clicked_wc(arg):\n",
    "    #clear_output(True)\n",
    "    #print(\"button has been clicked!\")\n",
    "    with output:\n",
    "        #output.clear_output()  # 前のクリック時の出力を消す\n",
    "        print(cmd_wc) \n",
    "        print(os.popen(cmd_wc).read())\n",
    "\n",
    "button_wc = widgets.Button(description = 'images count')   \n",
    "button_wc.on_click(clicked_wc)\n",
    "\n",
    "### del\n",
    "def clicked_del(arg):\n",
    "    #clear_output(True)\n",
    "    #print(\"button has been clicked!\")\n",
    "    with output:\n",
    "        #output.clear_output()  # 前のクリック時の出力を消す\n",
    "        print(cmd_wc) \n",
    "        print(os.popen(cmd_del).read())\n",
    "\n",
    "button_del = widgets.Button(description = 'del data')   \n",
    "button_del.on_click(clicked_del)\n",
    "\n",
    "\n",
    "### run car\n",
    "def clicked_run(arg):\n",
    "    with output:\n",
    "        output.clear_output()  # 前のクリック時の出力を消す\n",
    "        print(cmd_run) \n",
    "        #print(os.popen(cmd_run).read())\n",
    "        msg = run_and_capture(cmd_run)\n",
    "        print(msg)\n",
    "\n",
    "\n",
    "button_run = widgets.Button(description = 'run car')   \n",
    "button_run.on_click(clicked_run)\n",
    "\n",
    "### train \n",
    "def clicked_train(arg):\n",
    "    with output:\n",
    "        output.clear_output()  # 前のクリック時の出力を消す\n",
    "        print(cmd_train) \n",
    "        #print(os.popen(cmd_train).read())\n",
    "        msg = run_and_capture(cmd_train)\n",
    "\n",
    "\n",
    "button_train = widgets.Button(description = 'train car')   \n",
    "button_train.on_click(clicked_train)\n",
    "\n",
    "### auto pilot\n",
    "def clicked_autopilot(arg):\n",
    "    with output:\n",
    "        output.clear_output()  # 前のクリック時の出力を消す\n",
    "        print(cmd_train) \n",
    "        #print(os.popen(cmd_train).read())\n",
    "        msg = run_and_capture(cmd_autopilot)\n",
    "\n",
    "\n",
    "button_autopilot = widgets.Button(description = 'run AI')   \n",
    "button_autopilot.on_click(clicked_autopilot)\n",
    "\n",
    "display(button_wc,button_del, button_run, button_train, button_autopilot, output)\n",
    "\n"
   ]
  },
  {
   "cell_type": "code",
   "execution_count": null,
   "id": "5d39f688",
   "metadata": {
    "hide_input": true
   },
   "outputs": [],
   "source": []
  }
 ],
 "metadata": {
  "kernelspec": {
   "display_name": "Python 3",
   "language": "python",
   "name": "python3"
  },
  "language_info": {
   "codemirror_mode": {
    "name": "ipython",
    "version": 3
   },
   "file_extension": ".py",
   "mimetype": "text/x-python",
   "name": "python",
   "nbconvert_exporter": "python",
   "pygments_lexer": "ipython3",
   "version": "3.6.13"
  },
  "varInspector": {
   "cols": {
    "lenName": 16,
    "lenType": 16,
    "lenVar": 40
   },
   "kernels_config": {
    "python": {
     "delete_cmd_postfix": "",
     "delete_cmd_prefix": "del ",
     "library": "var_list.py",
     "varRefreshCmd": "print(var_dic_list())"
    },
    "r": {
     "delete_cmd_postfix": ") ",
     "delete_cmd_prefix": "rm(",
     "library": "var_list.r",
     "varRefreshCmd": "cat(var_dic_list()) "
    }
   },
   "types_to_exclude": [
    "module",
    "function",
    "builtin_function_or_method",
    "instance",
    "_Feature"
   ],
   "window_display": false
  }
 },
 "nbformat": 4,
 "nbformat_minor": 5
}
