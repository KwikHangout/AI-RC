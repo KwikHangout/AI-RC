{
 "cells": [
  {
   "cell_type": "code",
   "execution_count": 6,
   "id": "547460b7",
   "metadata": {
    "hide_input": false,
    "scrolled": true
   },
   "outputs": [
    {
     "data": {
      "application/vnd.jupyter.widget-view+json": {
       "model_id": "ef3780bab0a64f21ad7b46a355f3adf3",
       "version_major": 2,
       "version_minor": 0
      },
      "text/plain": [
       "Button(description='test', style=ButtonStyle())"
      ]
     },
     "metadata": {},
     "output_type": "display_data"
    },
    {
     "data": {
      "application/vnd.jupyter.widget-view+json": {
       "model_id": "cc6457b79f714ab4a408bd7975d747c3",
       "version_major": 2,
       "version_minor": 0
      },
      "text/plain": [
       "Button(description='images count', style=ButtonStyle())"
      ]
     },
     "metadata": {},
     "output_type": "display_data"
    },
    {
     "data": {
      "application/vnd.jupyter.widget-view+json": {
       "model_id": "3ed11f7d6f5a4fd2aa2d7f14f9ec0969",
       "version_major": 2,
       "version_minor": 0
      },
      "text/plain": [
       "Button(description='run car', style=ButtonStyle())"
      ]
     },
     "metadata": {},
     "output_type": "display_data"
    },
    {
     "data": {
      "application/vnd.jupyter.widget-view+json": {
       "model_id": "3cf5d899859640828f28297cdbe467b7",
       "version_major": 2,
       "version_minor": 0
      },
      "text/plain": [
       "Button(description='train car', style=ButtonStyle())"
      ]
     },
     "metadata": {},
     "output_type": "display_data"
    },
    {
     "data": {
      "application/vnd.jupyter.widget-view+json": {
       "model_id": "996acf5b303d49feb34f21babaf56f2c",
       "version_major": 2,
       "version_minor": 0
      },
      "text/plain": [
       "Output()"
      ]
     },
     "metadata": {},
     "output_type": "display_data"
    }
   ],
   "source": [
    "from IPython.display import display, clear_output\n",
    "import ipywidgets as widgets\n",
    "import os\n",
    "import asyncio\n",
    "import sys\n",
    "import subprocess\n",
    "\n",
    "cmd_wc=\"ls -l ../mycar/data/images|wc -l\"\n",
    "#cmd_run=\"cd ../mycar; source ./run_car.sh\"\n",
    "cmd_run=\"cd ../mycar;python manage.py drive --js\"\n",
    "cmd_train=\"cd ../mycar;donkey train --tub ./data --model ./models/mypilot.h5\"\n",
    "\n",
    "output =  widgets.Output()\n",
    "current_proc = 0\n",
    "\n",
    "# https://qiita.com/megmogmog1965/items/091aa0304017d775bc1e\n",
    "def run_and_capture(cmd):\n",
    "    '''\n",
    "    :param cmd: str 実行するコマンド.\n",
    "    :rtype: str\n",
    "    :return: 標準出力.\n",
    "    '''\n",
    "    # ここでプロセスが (非同期に) 開始する.\n",
    "    proc = subprocess.Popen(cmd, shell=True, stdout=subprocess.PIPE, stderr=subprocess.STDOUT)\n",
    "    print(proc.pid)\n",
    "    buf = []\n",
    "    current_proc = proc\n",
    "\n",
    "    while True:\n",
    "        # バッファから1行読み込む.\n",
    "        line = proc.stdout.readline()\n",
    "        buf.append(line)\n",
    "        sys.stdout.write(line)\n",
    "\n",
    "        # バッファが空 + プロセス終了.\n",
    "        if not line and proc.poll() is not None:\n",
    "            break\n",
    "\n",
    "    return b''.join(buf)\n",
    "\n",
    "def clicked_test(arg):\n",
    "    with output:\n",
    "        msg = run_and_capture(cmd_train)\n",
    "        print(msg)\n",
    "\n",
    "button_test = widgets.Button(description = 'test')   \n",
    "button_test.on_click(clicked_test)\n",
    "\n",
    "def clicked_wc(arg):\n",
    "    #clear_output(True)\n",
    "    #print(\"button has been clicked!\")\n",
    "    with output:\n",
    "        #output.clear_output()  # 前のクリック時の出力を消す\n",
    "        print(cmd_wc) \n",
    "        print(os.popen(cmd_wc).read())\n",
    "\n",
    "button_wc = widgets.Button(description = 'images count')   \n",
    "button_wc.on_click(clicked_wc)\n",
    "\n",
    "### run car\n",
    "def clicked_run(arg):\n",
    "    with output:\n",
    "        output.clear_output()  # 前のクリック時の出力を消す\n",
    "        print(cmd_run) \n",
    "        #print(os.popen(cmd_run).read())\n",
    "        msg = run_and_capture(cmd_run)\n",
    "        print(msg)\n",
    "\n",
    "\n",
    "button_run = widgets.Button(description = 'run car')   \n",
    "button_run.on_click(clicked_run)\n",
    "\n",
    "### train \n",
    "def clicked_train(arg):\n",
    "    with output:\n",
    "        output.clear_output()  # 前のクリック時の出力を消す\n",
    "        print(cmd_train) \n",
    "        #print(os.popen(cmd_train).read())\n",
    "        msg = run_and_capture(cmd_train)\n",
    "\n",
    "\n",
    "button_train = widgets.Button(description = 'train car')   \n",
    "button_train.on_click(clicked_train)\n",
    "\n",
    "display(button_wc, button_run, button_train, output)\n",
    "\n"
   ]
  },
  {
   "cell_type": "code",
   "execution_count": null,
   "id": "5d39f688",
   "metadata": {
    "hide_input": true
   },
   "outputs": [],
   "source": []
  }
 ],
 "metadata": {
  "kernelspec": {
   "display_name": "Python 3",
   "language": "python",
   "name": "python3"
  },
  "language_info": {
   "codemirror_mode": {
    "name": "ipython",
    "version": 3
   },
   "file_extension": ".py",
   "mimetype": "text/x-python",
   "name": "python",
   "nbconvert_exporter": "python",
   "pygments_lexer": "ipython3",
   "version": "3.6.13"
  },
  "varInspector": {
   "cols": {
    "lenName": 16,
    "lenType": 16,
    "lenVar": 40
   },
   "kernels_config": {
    "python": {
     "delete_cmd_postfix": "",
     "delete_cmd_prefix": "del ",
     "library": "var_list.py",
     "varRefreshCmd": "print(var_dic_list())"
    },
    "r": {
     "delete_cmd_postfix": ") ",
     "delete_cmd_prefix": "rm(",
     "library": "var_list.r",
     "varRefreshCmd": "cat(var_dic_list()) "
    }
   },
   "types_to_exclude": [
    "module",
    "function",
    "builtin_function_or_method",
    "instance",
    "_Feature"
   ],
   "window_display": false
  }
 },
 "nbformat": 4,
 "nbformat_minor": 5
}
